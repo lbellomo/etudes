{
 "cells": [
  {
   "cell_type": "markdown",
   "id": "cb6471ef-de7d-45e0-8907-9673f1cf621b",
   "metadata": {},
   "source": [
    "# Adventure of code 2020\n",
    "\n",
    "Adventure of code [2020](https://adventofcode.com/2020) in a monolitic notebook."
   ]
  },
  {
   "cell_type": "code",
   "execution_count": 46,
   "id": "8f1285fd-6aba-4f1e-aad9-bcf4bfc5cbd2",
   "metadata": {},
   "outputs": [],
   "source": [
    "from math import prod\n",
    "from collections import namedtuple, Counter\n",
    "from itertools import combinations\n",
    "from string import ascii_lowercase, digits"
   ]
  },
  {
   "cell_type": "code",
   "execution_count": 2,
   "id": "9c8aaaf7-1e3b-4771-8055-eef500c16684",
   "metadata": {},
   "outputs": [],
   "source": [
    "def read_input(path, parse_int=False):\n",
    "    with open(path) as f:\n",
    "        for _, line in enumerate(f):\n",
    "            \n",
    "            line = line.strip()\n",
    "            if parse_int:\n",
    "                line = int(line)\n",
    "                \n",
    "            yield line"
   ]
  },
  {
   "cell_type": "markdown",
   "id": "b6c089b7-df45-4589-b203-04b796e54103",
   "metadata": {},
   "source": [
    "## Day 1\n",
    "\n",
    "Find the sum equal to the target value."
   ]
  },
  {
   "cell_type": "code",
   "execution_count": 3,
   "id": "f1ffeb6c-ae58-413f-9a47-801c3c6758da",
   "metadata": {},
   "outputs": [
    {
     "name": "stdout",
     "output_type": "stream",
     "text": [
      "a = 1019904\n",
      "b = 176647680\n"
     ]
    }
   ],
   "source": [
    "data = list(read_input(\"inputs/input_01.txt\", parse_int=True))\n",
    "target = 2020\n",
    "\n",
    "for title, count in zip([\"a\", \"b\"], [2, 3]):\n",
    "    result = [prod(items) for items in combinations(data, count) if sum(items) == target][0]\n",
    "    print(f\"{title} = {result}\")"
   ]
  },
  {
   "cell_type": "markdown",
   "id": "f04db7f0-f438-4efc-949e-206ab4e94348",
   "metadata": {},
   "source": [
    "## Day 2\n",
    "\n",
    "Check if a policy (an str) is valid for a given condition."
   ]
  },
  {
   "cell_type": "code",
   "execution_count": 4,
   "id": "e0d50012-bb97-4188-8534-0177333c17be",
   "metadata": {},
   "outputs": [
    {
     "name": "stdout",
     "output_type": "stream",
     "text": [
      "a = 506\n",
      "b = 443\n"
     ]
    }
   ],
   "source": [
    "Policy = namedtuple(\"policy\", [\"number_0\", \"number_1\", \"letter\", \"policy\"])\n",
    "\n",
    "def parse_policy(raw_data):    \n",
    "    for raw_item in raw_data:\n",
    "        rest, policy_str = raw_item.split(\":\")\n",
    "        rest, letter = rest.split(\" \")\n",
    "        number_0, number_1 = tuple(map(int, rest.split(\"-\")))\n",
    "        policy_str = policy_str.strip()\n",
    "        \n",
    "        yield Policy(number_0, number_1, letter, policy_str)\n",
    "        \n",
    "def check_policy_1(policy: Policy) -> bool:\n",
    "    \"\"\"Check if the policy count for the 'letter' is inside de numbers range.\"\"\"\n",
    "    count = Counter(policy.policy)\n",
    "    count_letter = count.get(policy.letter, 0)\n",
    "    \n",
    "    if policy.number_0 <= count_letter <= policy.number_1:\n",
    "        return True\n",
    "    else:\n",
    "        return False\n",
    "    \n",
    "def check_policy_2(policy: Policy) -> bool:\n",
    "    \"\"\"Check if there is the correct 'letter' in the numbers positions.\n",
    "    Positions start counting from 1, so we sustract 1.\"\"\"\n",
    "    return sum(policy.policy[i-1] == policy.letter for i in [policy.number_0, policy.number_1]) == 1\n",
    "\n",
    "\n",
    "raw_data = read_input(\"inputs/input_02.txt\")\n",
    "result = sum(check_policy_1(policy) for policy in parse_policy(raw_data))\n",
    "print(f\"a = {result}\")\n",
    "\n",
    "raw_data = read_input(\"inputs/input_02.txt\")\n",
    "result = sum(check_policy_2(policy) for policy in parse_policy(raw_data))\n",
    "print(f\"b = {result}\")"
   ]
  },
  {
   "cell_type": "markdown",
   "id": "26a7821c-9b56-4483-8d50-54bcdc1c8d98",
   "metadata": {},
   "source": [
    "## Day 3"
   ]
  },
  {
   "cell_type": "code",
   "execution_count": null,
   "id": "6c6bb74c-f295-4ff5-8ee4-ad0a1c534e30",
   "metadata": {},
   "outputs": [],
   "source": []
  },
  {
   "cell_type": "markdown",
   "id": "bf6a60dd-fde0-4f1b-bf12-e842c685bc2b",
   "metadata": {},
   "source": [
    "## Day 4"
   ]
  },
  {
   "cell_type": "code",
   "execution_count": 64,
   "id": "a4f122e3-b2c5-440f-9a51-d1b55bb3dc1b",
   "metadata": {},
   "outputs": [],
   "source": [
    "valid_keys = [\"byr\", \"iyr\", \"eyr\", \"hgt\", \"hcl\", \"ecl\", \"pid\", \"cid\"]\n",
    "\n",
    "def parse_passports(raw_data):\n",
    "    passport = {}\n",
    "    for line in raw_data:\n",
    "        if not line:\n",
    "            yield passport\n",
    "            passport = {}\n",
    "        \n",
    "        else:\n",
    "            for raw_field in line.split():\n",
    "                k, v = raw_field.split(\":\")\n",
    "                passport[k] = v\n",
    "    # return the last one\n",
    "    yield passport\n",
    "    \n",
    "def check_passport_1(passport: dict) -> bool:\n",
    "    \"\"\"Check if the passport have all the keys (the last one is optional)\"\"\"\n",
    "    return all(k in passport for k in valid_keys[:-1])\n",
    "\n",
    "\n",
    "def check_generic_field(raw_field: str, low_value: int, upper_value: int) -> bool:\n",
    "    try:\n",
    "        field = int(raw_field)\n",
    "    except ValueError:\n",
    "        return False\n",
    "    \n",
    "    if len(raw_field) != 4:\n",
    "        return False\n",
    "    \n",
    "    if not low_value <= field <= upper_value:\n",
    "        return False\n",
    "    \n",
    "    return True\n",
    "\n",
    "\n",
    "def check_hgt_field(raw_field: str) -> bool:\n",
    "    try:\n",
    "        field = int(raw_field[:-2])\n",
    "    except ValueError:\n",
    "        return False\n",
    "    \n",
    "    field_type = raw_field[-2:]\n",
    "\n",
    "    if field_type not in [\"cm\", \"in\"]:\n",
    "        return False\n",
    "    elif field_type == \"cm\":\n",
    "        low_value = 150\n",
    "        upper_value = 193\n",
    "    elif field_type == \"in\":\n",
    "        low_value = 59\n",
    "        upper_value = 76\n",
    "\n",
    "    if not low_value <= field <= upper_value:\n",
    "        return False\n",
    "\n",
    "    return True\n",
    "\n",
    "def check_hcl_field(raw_field: str) -> bool:\n",
    "    if raw_field[0] != \"#\":\n",
    "        return False\n",
    "    \n",
    "    for char in raw_field[1:]:\n",
    "        if char not in digits + ascii_lowercase[:6]:\n",
    "            return False\n",
    "    return True\n",
    "\n",
    "\n",
    "def check_ecl_field(raw_field: str) -> bool:\n",
    "    return raw_field in [\"amb\", \"blu\", \"brn\", \"gry\", \"grn\", \"hzl\", \"oth\"]\n",
    "\n",
    "\n",
    "def check_pid_field(raw_field: str) -> bool:\n",
    "    if len(raw_field) != 9:\n",
    "        return False\n",
    "    \n",
    "    return raw_field.isnumeric()\n",
    "\n",
    "\n",
    "def check_passport_2(passport: dict) -> bool:\n",
    "    \"\"\"Check that each passport field is valid.\"\"\"\n",
    "    if not all(k in passport for k in valid_keys[:-1]):\n",
    "        return False\n",
    "    \n",
    "    conditions = [\n",
    "        check_generic_field(passport[\"byr\"], 1920, 2002),\n",
    "        check_generic_field(passport[\"iyr\"], 2010, 2020),\n",
    "        check_generic_field(passport[\"eyr\"], 2020, 2030),\n",
    "        check_hgt_field(passport[\"hgt\"]),\n",
    "        check_hcl_field(passport[\"hcl\"]),\n",
    "        check_ecl_field(passport[\"ecl\"]),\n",
    "        check_pid_field(passport[\"pid\"]),\n",
    "    ]\n",
    "    \n",
    "    return all(conditions)\n",
    "    \n",
    "    \n",
    "raw_data = read_input(\"inputs/input_04.txt\")\n",
    "result = sum(map(check_passport_1, parse_passports(raw_data)))\n",
    "print(f\"a = {result}\")\n",
    "\n",
    "raw_data = read_input(\"inputs/input_04.txt\")\n",
    "result = sum(map(check_passport_2, parse_passports(raw_data)))\n",
    "print(f\"b = {result}\")"
   ]
  },
  {
   "cell_type": "code",
   "execution_count": 66,
   "id": "c5ab6347-b178-4f61-9e42-bb791932e63a",
   "metadata": {},
   "outputs": [
    {
     "name": "stdout",
     "output_type": "stream",
     "text": [
      "a = 219\n",
      "b = 127\n"
     ]
    }
   ],
   "source": []
  }
 ],
 "metadata": {
  "kernelspec": {
   "display_name": "Python 3",
   "language": "python",
   "name": "python3"
  },
  "language_info": {
   "codemirror_mode": {
    "name": "ipython",
    "version": 3
   },
   "file_extension": ".py",
   "mimetype": "text/x-python",
   "name": "python",
   "nbconvert_exporter": "python",
   "pygments_lexer": "ipython3",
   "version": "3.8.8"
  }
 },
 "nbformat": 4,
 "nbformat_minor": 5
}
